{
  "nbformat": 4,
  "nbformat_minor": 0,
  "metadata": {
    "colab": {
      "provenance": []
    },
    "kernelspec": {
      "name": "python3",
      "display_name": "Python 3"
    },
    "language_info": {
      "name": "python"
    }
  },
  "cells": [
    {
      "cell_type": "code",
      "execution_count": 1,
      "metadata": {
        "colab": {
          "base_uri": "https://localhost:8080/"
        },
        "id": "xNpxdaka40FM",
        "outputId": "39d552e6-a206-475f-c40d-27377f32246c"
      },
      "outputs": [
        {
          "output_type": "stream",
          "name": "stdout",
          "text": [
            "Downloading from https://www.kaggle.com/api/v1/datasets/download/hieuvuvan/atopicdermatitis?dataset_version_number=1...\n"
          ]
        },
        {
          "output_type": "stream",
          "name": "stderr",
          "text": [
            "100%|██████████| 5.07M/5.07M [00:00<00:00, 20.7MB/s]"
          ]
        },
        {
          "output_type": "stream",
          "name": "stdout",
          "text": [
            "Extracting files...\n"
          ]
        },
        {
          "output_type": "stream",
          "name": "stderr",
          "text": [
            "\n"
          ]
        },
        {
          "output_type": "stream",
          "name": "stdout",
          "text": [
            "Dataset path: /root/.cache/kagglehub/datasets/hieuvuvan/atopicdermatitis/versions/1\n",
            "Contents inside dataset folder: ['not_AD', 'AD']\n"
          ]
        }
      ],
      "source": [
        "import kagglehub\n",
        "import os\n",
        "\n",
        "# Download dataset\n",
        "dataset_path = kagglehub.dataset_download(\"hieuvuvan/atopicdermatitis\")\n",
        "print(\"Dataset path:\", dataset_path)\n",
        "print(\"Contents inside dataset folder:\", os.listdir(dataset_path))\n"
      ]
    },
    {
      "cell_type": "code",
      "source": [
        "import shutil, os\n",
        "\n",
        "base_dir = dataset_path\n",
        "\n",
        "# If both 'Not_AD' and 'not_AD' exist, merge them\n",
        "if \"Not_AD\" in os.listdir(base_dir) and \"not_AD\" in os.listdir(base_dir):\n",
        "    src = os.path.join(base_dir, \"not_AD\")\n",
        "    dst = os.path.join(base_dir, \"Not_AD\")\n",
        "    for f in os.listdir(src):\n",
        "        src_file = os.path.join(src, f)\n",
        "        dst_file = os.path.join(dst, f)\n",
        "        if not os.path.exists(dst_file):  # Avoid overwrite\n",
        "            shutil.move(src_file, dst)\n",
        "    shutil.rmtree(src)\n",
        "\n",
        "# If only 'not_AD' exists, rename it\n",
        "elif \"not_AD\" in os.listdir(base_dir):\n",
        "    os.rename(os.path.join(base_dir, \"not_AD\"), os.path.join(base_dir, \"Not_AD\"))\n",
        "\n",
        "print(\"✅ After cleanup:\", os.listdir(base_dir))\n"
      ],
      "metadata": {
        "colab": {
          "base_uri": "https://localhost:8080/"
        },
        "id": "oSQWwIff4-AW",
        "outputId": "2f0462d1-de28-4f08-9c11-b06cd2646f23"
      },
      "execution_count": 2,
      "outputs": [
        {
          "output_type": "stream",
          "name": "stdout",
          "text": [
            "✅ After cleanup: ['Not_AD', 'AD']\n"
          ]
        }
      ]
    },
    {
      "cell_type": "code",
      "source": [
        "import os, shutil\n",
        "from sklearn.model_selection import train_test_split\n",
        "\n",
        "raw_data_dir = base_dir\n",
        "dataset_root = \"/content/dataset\"\n",
        "classes = [\"AD\", \"Not_AD\"]\n",
        "splits = [\"train\", \"val\", \"test\"]\n",
        "\n",
        "# Create new structure\n",
        "for split in splits:\n",
        "    for cls in classes:\n",
        "        os.makedirs(os.path.join(dataset_root, split, cls), exist_ok=True)\n",
        "\n",
        "# Split ratios\n",
        "train_ratio = 0.7\n",
        "val_ratio = 0.15\n",
        "test_ratio = 0.15\n",
        "\n",
        "# Copy images\n",
        "for cls in classes:\n",
        "    cls_dir = os.path.join(raw_data_dir, cls)\n",
        "    images = [img for img in os.listdir(cls_dir) if img.lower().endswith(('.jpg', '.jpeg', '.png'))]\n",
        "\n",
        "    train_files, temp_files = train_test_split(images, test_size=(1 - train_ratio), random_state=42)\n",
        "    val_files, test_files = train_test_split(temp_files, test_size=test_ratio / (test_ratio + val_ratio), random_state=42)\n",
        "\n",
        "    for f in train_files:\n",
        "        shutil.copy(os.path.join(cls_dir, f), os.path.join(dataset_root, \"train\", cls, f))\n",
        "    for f in val_files:\n",
        "        shutil.copy(os.path.join(cls_dir, f), os.path.join(dataset_root, \"val\", cls, f))\n",
        "    for f in test_files:\n",
        "        shutil.copy(os.path.join(cls_dir, f), os.path.join(dataset_root, \"test\", cls, f))\n",
        "\n",
        "print(\"✅ Dataset split complete!\")\n"
      ],
      "metadata": {
        "colab": {
          "base_uri": "https://localhost:8080/"
        },
        "id": "uDGwOxem5A_K",
        "outputId": "94758352-c73d-4f6d-da62-6c3da288615f"
      },
      "execution_count": 3,
      "outputs": [
        {
          "output_type": "stream",
          "name": "stdout",
          "text": [
            "✅ Dataset split complete!\n"
          ]
        }
      ]
    },
    {
      "cell_type": "code",
      "source": [
        "from tensorflow.keras.preprocessing.image import ImageDataGenerator\n",
        "\n",
        "IMG_SIZE = (224, 224)\n",
        "BATCH_SIZE = 16\n",
        "\n",
        "train_datagen = ImageDataGenerator(\n",
        "    rescale=1./255,\n",
        "    rotation_range=20,\n",
        "    horizontal_flip=True,\n",
        "    zoom_range=0.2\n",
        ")\n",
        "val_test_datagen = ImageDataGenerator(rescale=1./255)\n",
        "\n",
        "train_generator = train_datagen.flow_from_directory(\n",
        "    os.path.join(dataset_root, \"train\"),\n",
        "    target_size=IMG_SIZE,\n",
        "    batch_size=BATCH_SIZE,\n",
        "    class_mode=\"binary\"\n",
        ")\n",
        "\n",
        "val_generator = val_test_datagen.flow_from_directory(\n",
        "    os.path.join(dataset_root, \"val\"),\n",
        "    target_size=IMG_SIZE,\n",
        "    batch_size=BATCH_SIZE,\n",
        "    class_mode=\"binary\"\n",
        ")\n",
        "\n",
        "test_generator = val_test_datagen.flow_from_directory(\n",
        "    os.path.join(dataset_root, \"test\"),\n",
        "    target_size=IMG_SIZE,\n",
        "    batch_size=BATCH_SIZE,\n",
        "    class_mode=\"binary\",\n",
        "    shuffle=False\n",
        ")\n"
      ],
      "metadata": {
        "colab": {
          "base_uri": "https://localhost:8080/"
        },
        "id": "IIdJp2tj5D_c",
        "outputId": "8cf66c13-aec1-4042-e886-0dd39f0ab192"
      },
      "execution_count": 4,
      "outputs": [
        {
          "output_type": "stream",
          "name": "stdout",
          "text": [
            "Found 131 images belonging to 2 classes.\n",
            "Found 29 images belonging to 2 classes.\n",
            "Found 29 images belonging to 2 classes.\n"
          ]
        }
      ]
    },
    {
      "cell_type": "code",
      "source": [
        "from tensorflow.keras.applications import MobileNetV2\n",
        "from tensorflow.keras import layers, models, optimizers\n",
        "\n",
        "base_model = MobileNetV2(input_shape=IMG_SIZE + (3,), include_top=False, weights=\"imagenet\")\n",
        "base_model.trainable = False\n",
        "\n",
        "model = models.Sequential([\n",
        "    base_model,\n",
        "    layers.GlobalAveragePooling2D(),\n",
        "    layers.Dropout(0.3),\n",
        "    layers.Dense(1, activation=\"sigmoid\")\n",
        "])\n",
        "\n",
        "model.compile(optimizer=optimizers.Adam(learning_rate=0.0001),\n",
        "              loss=\"binary_crossentropy\",\n",
        "              metrics=[\"accuracy\"])\n",
        "\n",
        "history = model.fit(\n",
        "    train_generator,\n",
        "    validation_data=val_generator,\n",
        "    epochs=5\n",
        ")\n"
      ],
      "metadata": {
        "colab": {
          "base_uri": "https://localhost:8080/"
        },
        "id": "u0D5qViB5Icz",
        "outputId": "96dbf72b-fc06-4c16-e5a6-c77bdf21cee6"
      },
      "execution_count": 5,
      "outputs": [
        {
          "output_type": "stream",
          "name": "stdout",
          "text": [
            "Downloading data from https://storage.googleapis.com/tensorflow/keras-applications/mobilenet_v2/mobilenet_v2_weights_tf_dim_ordering_tf_kernels_1.0_224_no_top.h5\n",
            "\u001b[1m9406464/9406464\u001b[0m \u001b[32m━━━━━━━━━━━━━━━━━━━━\u001b[0m\u001b[37m\u001b[0m \u001b[1m0s\u001b[0m 0us/step\n"
          ]
        },
        {
          "output_type": "stream",
          "name": "stderr",
          "text": [
            "/usr/local/lib/python3.12/dist-packages/keras/src/trainers/data_adapters/py_dataset_adapter.py:121: UserWarning: Your `PyDataset` class should call `super().__init__(**kwargs)` in its constructor. `**kwargs` can include `workers`, `use_multiprocessing`, `max_queue_size`. Do not pass these arguments to `fit()`, as they will be ignored.\n",
            "  self._warn_if_super_not_called()\n"
          ]
        },
        {
          "output_type": "stream",
          "name": "stdout",
          "text": [
            "Epoch 1/5\n",
            "\u001b[1m9/9\u001b[0m \u001b[32m━━━━━━━━━━━━━━━━━━━━\u001b[0m\u001b[37m\u001b[0m \u001b[1m17s\u001b[0m 1s/step - accuracy: 0.5419 - loss: 0.7971 - val_accuracy: 0.5862 - val_loss: 0.6053\n",
            "Epoch 2/5\n",
            "\u001b[1m9/9\u001b[0m \u001b[32m━━━━━━━━━━━━━━━━━━━━\u001b[0m\u001b[37m\u001b[0m \u001b[1m10s\u001b[0m 1s/step - accuracy: 0.5993 - loss: 0.6942 - val_accuracy: 0.6207 - val_loss: 0.5845\n",
            "Epoch 3/5\n",
            "\u001b[1m9/9\u001b[0m \u001b[32m━━━━━━━━━━━━━━━━━━━━\u001b[0m\u001b[37m\u001b[0m \u001b[1m8s\u001b[0m 857ms/step - accuracy: 0.5956 - loss: 0.7078 - val_accuracy: 0.7241 - val_loss: 0.5690\n",
            "Epoch 4/5\n",
            "\u001b[1m9/9\u001b[0m \u001b[32m━━━━━━━━━━━━━━━━━━━━\u001b[0m\u001b[37m\u001b[0m \u001b[1m9s\u001b[0m 856ms/step - accuracy: 0.6268 - loss: 0.6806 - val_accuracy: 0.7586 - val_loss: 0.5574\n",
            "Epoch 5/5\n",
            "\u001b[1m9/9\u001b[0m \u001b[32m━━━━━━━━━━━━━━━━━━━━\u001b[0m\u001b[37m\u001b[0m \u001b[1m9s\u001b[0m 1s/step - accuracy: 0.6255 - loss: 0.7365 - val_accuracy: 0.7586 - val_loss: 0.5471\n"
          ]
        }
      ]
    },
    {
      "cell_type": "code",
      "source": [
        "from sklearn.utils.class_weight import compute_class_weight\n",
        "import numpy as np\n",
        "\n",
        "labels = train_generator.classes\n",
        "class_weights = compute_class_weight('balanced', classes=np.unique(labels), y=labels)\n",
        "class_weights = dict(enumerate(class_weights))\n",
        "print(\"Class weights:\", class_weights)\n"
      ],
      "metadata": {
        "colab": {
          "base_uri": "https://localhost:8080/"
        },
        "id": "jWmm6vm_5TPP",
        "outputId": "5a3fe12f-801d-44d7-8365-1f69d8706ed7"
      },
      "execution_count": 6,
      "outputs": [
        {
          "output_type": "stream",
          "name": "stdout",
          "text": [
            "Class weights: {0: np.float64(1.0564516129032258), 1: np.float64(0.9492753623188406)}\n"
          ]
        }
      ]
    },
    {
      "cell_type": "code",
      "source": [
        "base_model.trainable = True\n",
        "for layer in base_model.layers[:-20]:\n",
        "    layer.trainable = False\n",
        "\n",
        "model.compile(optimizer=optimizers.Adam(learning_rate=1e-5),\n",
        "              loss=\"binary_crossentropy\",\n",
        "              metrics=[\"accuracy\"])\n",
        "\n",
        "history_fine = model.fit(\n",
        "    train_generator,\n",
        "    validation_data=val_generator,\n",
        "    epochs=10,\n",
        "    class_weight=class_weights\n",
        ")\n"
      ],
      "metadata": {
        "colab": {
          "base_uri": "https://localhost:8080/"
        },
        "id": "uag5zTJF5eJ4",
        "outputId": "09527175-1b65-4255-d3b0-f0521b2ef3ba"
      },
      "execution_count": 7,
      "outputs": [
        {
          "output_type": "stream",
          "name": "stdout",
          "text": [
            "Epoch 1/10\n",
            "\u001b[1m9/9\u001b[0m \u001b[32m━━━━━━━━━━━━━━━━━━━━\u001b[0m\u001b[37m\u001b[0m \u001b[1m22s\u001b[0m 1s/step - accuracy: 0.6058 - loss: 0.6636 - val_accuracy: 0.7586 - val_loss: 0.5172\n",
            "Epoch 2/10\n",
            "\u001b[1m9/9\u001b[0m \u001b[32m━━━━━━━━━━━━━━━━━━━━\u001b[0m\u001b[37m\u001b[0m \u001b[1m9s\u001b[0m 1s/step - accuracy: 0.5706 - loss: 0.6986 - val_accuracy: 0.7586 - val_loss: 0.4932\n",
            "Epoch 3/10\n",
            "\u001b[1m9/9\u001b[0m \u001b[32m━━━━━━━━━━━━━━━━━━━━\u001b[0m\u001b[37m\u001b[0m \u001b[1m11s\u001b[0m 1s/step - accuracy: 0.6680 - loss: 0.6202 - val_accuracy: 0.7931 - val_loss: 0.4711\n",
            "Epoch 4/10\n",
            "\u001b[1m9/9\u001b[0m \u001b[32m━━━━━━━━━━━━━━━━━━━━\u001b[0m\u001b[37m\u001b[0m \u001b[1m11s\u001b[0m 1s/step - accuracy: 0.7411 - loss: 0.5417 - val_accuracy: 0.8276 - val_loss: 0.4535\n",
            "Epoch 5/10\n",
            "\u001b[1m9/9\u001b[0m \u001b[32m━━━━━━━━━━━━━━━━━━━━\u001b[0m\u001b[37m\u001b[0m \u001b[1m11s\u001b[0m 1s/step - accuracy: 0.6873 - loss: 0.5737 - val_accuracy: 0.8276 - val_loss: 0.4395\n",
            "Epoch 6/10\n",
            "\u001b[1m9/9\u001b[0m \u001b[32m━━━━━━━━━━━━━━━━━━━━\u001b[0m\u001b[37m\u001b[0m \u001b[1m15s\u001b[0m 2s/step - accuracy: 0.7588 - loss: 0.5154 - val_accuracy: 0.8276 - val_loss: 0.4248\n",
            "Epoch 7/10\n",
            "\u001b[1m9/9\u001b[0m \u001b[32m━━━━━━━━━━━━━━━━━━━━\u001b[0m\u001b[37m\u001b[0m \u001b[1m9s\u001b[0m 986ms/step - accuracy: 0.7966 - loss: 0.5440 - val_accuracy: 0.8621 - val_loss: 0.4133\n",
            "Epoch 8/10\n",
            "\u001b[1m9/9\u001b[0m \u001b[32m━━━━━━━━━━━━━━━━━━━━\u001b[0m\u001b[37m\u001b[0m \u001b[1m12s\u001b[0m 1s/step - accuracy: 0.8077 - loss: 0.4651 - val_accuracy: 0.8621 - val_loss: 0.4037\n",
            "Epoch 9/10\n",
            "\u001b[1m9/9\u001b[0m \u001b[32m━━━━━━━━━━━━━━━━━━━━\u001b[0m\u001b[37m\u001b[0m \u001b[1m10s\u001b[0m 1s/step - accuracy: 0.7075 - loss: 0.5212 - val_accuracy: 0.8621 - val_loss: 0.3952\n",
            "Epoch 10/10\n",
            "\u001b[1m9/9\u001b[0m \u001b[32m━━━━━━━━━━━━━━━━━━━━\u001b[0m\u001b[37m\u001b[0m \u001b[1m21s\u001b[0m 1s/step - accuracy: 0.7644 - loss: 0.4668 - val_accuracy: 0.8621 - val_loss: 0.3875\n"
          ]
        }
      ]
    },
    {
      "cell_type": "code",
      "source": [
        "from sklearn.metrics import classification_report, confusion_matrix, roc_auc_score\n",
        "import matplotlib.pyplot as plt\n",
        "import seaborn as sns\n",
        "\n",
        "print(\"Class indices:\", test_generator.class_indices)\n",
        "\n",
        "y_true = test_generator.classes\n",
        "y_pred_prob = model.predict(test_generator)\n",
        "y_pred = (y_pred_prob > 0.5).astype(int).flatten()\n",
        "\n",
        "print(classification_report(y_true, y_pred, target_names=['AD', 'Not_AD']))\n",
        "print(f\"AUC: {roc_auc_score(y_true, y_pred_prob):.4f}\")\n",
        "\n",
        "cm = confusion_matrix(y_true, y_pred)\n",
        "plt.figure(figsize=(5,4))\n",
        "sns.heatmap(cm, annot=True, fmt='d', cmap='Blues',\n",
        "            xticklabels=['Predicted AD', 'Predicted Not_AD'],\n",
        "            yticklabels=['Actual AD', 'Actual Not_AD'])\n",
        "plt.title('Confusion Matrix')\n",
        "plt.ylabel('Actual')\n",
        "plt.xlabel('Predicted')\n",
        "plt.show()\n"
      ],
      "metadata": {
        "colab": {
          "base_uri": "https://localhost:8080/",
          "height": 673
        },
        "id": "B_LiiLJh5uE8",
        "outputId": "3d5e0a4b-97dc-4dad-f5ba-03ef2de5e77d"
      },
      "execution_count": 8,
      "outputs": [
        {
          "output_type": "stream",
          "name": "stdout",
          "text": [
            "Class indices: {'AD': 0, 'Not_AD': 1}\n"
          ]
        },
        {
          "output_type": "stream",
          "name": "stderr",
          "text": [
            "/usr/local/lib/python3.12/dist-packages/keras/src/trainers/data_adapters/py_dataset_adapter.py:121: UserWarning: Your `PyDataset` class should call `super().__init__(**kwargs)` in its constructor. `**kwargs` can include `workers`, `use_multiprocessing`, `max_queue_size`. Do not pass these arguments to `fit()`, as they will be ignored.\n",
            "  self._warn_if_super_not_called()\n"
          ]
        },
        {
          "output_type": "stream",
          "name": "stdout",
          "text": [
            "\u001b[1m2/2\u001b[0m \u001b[32m━━━━━━━━━━━━━━━━━━━━\u001b[0m\u001b[37m\u001b[0m \u001b[1m4s\u001b[0m 2s/step\n",
            "              precision    recall  f1-score   support\n",
            "\n",
            "          AD       0.73      0.79      0.76        14\n",
            "      Not_AD       0.79      0.73      0.76        15\n",
            "\n",
            "    accuracy                           0.76        29\n",
            "   macro avg       0.76      0.76      0.76        29\n",
            "weighted avg       0.76      0.76      0.76        29\n",
            "\n",
            "AUC: 0.8381\n"
          ]
        },
        {
          "output_type": "display_data",
          "data": {
            "text/plain": [
              "<Figure size 500x400 with 2 Axes>"
            ],
            "image/png": "[encoded data removed]"
          },
          "metadata": {}
        }
      ]
    }
  ]
}